{
 "cells": [
  {
   "cell_type": "markdown",
   "id": "455fb98f",
   "metadata": {},
   "source": [
    "# Enhanced Round Robin with Dynamic Time Quantum Implementation\n",
    "\n",
    "### Imports and Setup"
   ]
  },
  {
   "cell_type": "code",
   "execution_count": null,
   "id": "4d4e120d",
   "metadata": {},
   "outputs": [],
   "source": [
    "import matplotlib.pyplot as plt\n",
    "\n",
    "# This is an abstract representation of a process in a CPU scheduler.\n",
    "class Process:\n",
    "    def __init__(self, pid, arrival, burst):\n",
    "        self.pid = pid\n",
    "        self.arrival = arrival\n",
    "        self.burst = burst\n",
    "        self.remaining = burst\n",
    "        self.start = None\n",
    "        self.end = None\n",
    "        self.done = False\n",
    "        self.execution_log = []\n",
    "    \n",
    "    def __repr__(self):\n",
    "        # So we can stringify the process\n",
    "        return f\"{self.pid}(AT={self.arrival}, BT={self.burst}, RT={self.remaining})\"\n",
    "    \n",
    "def compute_metrics(finished_processes):\n",
    "    total_waiting_time = 0\n",
    "    total_turnaround_time = 0\n",
    "    n = len(finished_processes)\n",
    "    for p in finished_processes:\n",
    "        turnaround = p.end - p.arrival  # Total time in system.\n",
    "        waiting = turnaround - p.burst   # Time in RQ.\n",
    "        total_turnaround_time += turnaround\n",
    "        total_waiting_time += waiting\n",
    "    avg_waiting = total_waiting_time / n\n",
    "    avg_turnaround = total_turnaround_time / n\n",
    "    return avg_waiting, avg_turnaround\n",
    "\n",
    "def plot_gantt_chart(timeline):\n",
    "    y_position = 10  \n",
    "    block_height = 8\n",
    "    \n",
    "    fig, ax = plt.subplots(figsize=(12, 3))\n",
    "    \n",
    "    for pid, start, end in timeline:\n",
    "        duration = end - start\n",
    "        # Plot a bar representing the process block at the given checkpoint.\n",
    "        ax.broken_barh([(start, duration)], (y_position, block_height), facecolors=\"tab:blue\")\n",
    "        # Annotate the block with the process id (you can also add checkpoint info if available).\n",
    "        ax.text(start + duration / 2, y_position + block_height / 2, str(pid),\n",
    "                ha='center', va='center', color='white', fontsize=9)\n",
    "    \n",
    "    ax.set_xlabel(\"Time\")\n",
    "    ax.set_yticks([])  # No need for multiple y-ticks for a single row.\n",
    "    ax.set_title(\"Gantt Chart with Checkpoints\")\n",
    "    ax.set_xlim(0, max(end for _, _, end in timeline) + 5)\n",
    "    plt.tight_layout()\n",
    "    plt.show()"
   ]
  },
  {
   "cell_type": "markdown",
   "id": "f1f759a6",
   "metadata": {},
   "source": [
    "<div class=\"alert alert-block alert-info\"> <b>NOTE</b> Python 3 uses the \"ties to even\" rounding rule (<a href=\"https://en.wikipedia.org/wiki/IEEE_754#Roundings_to_nearest\">IEEE 754</a>) so we need a custom round implementation that does in the \"ties to away\"</div>"
   ]
  },
  {
   "cell_type": "code",
   "execution_count": null,
   "id": "bff93d9a",
   "metadata": {},
   "outputs": [],
   "source": [
    "import decimal\n",
    "\n",
    "def round_away(n):\n",
    "    d = decimal.Decimal(str(n))\n",
    "    rounded = d.quantize(decimal.Decimal('1'), rounding=decimal.ROUND_HALF_UP)\n",
    "    return int(rounded)"
   ]
  },
  {
   "cell_type": "markdown",
   "id": "8e539492",
   "metadata": {},
   "source": [
    "## Algorithm Implementation"
   ]
  },
  {
   "cell_type": "code",
   "execution_count": 44,
   "id": "fecb2749",
   "metadata": {},
   "outputs": [],
   "source": [
    "def calculate_quantum(ready_queue):\n",
    "    if len(ready_queue) == 0:\n",
    "        return 0\n",
    "    index = max(round_away(0.8 * len(ready_queue)), 1) - 1 \n",
    "    return ready_queue[index].remaining"
   ]
  },
  {
   "cell_type": "code",
   "execution_count": 40,
   "id": "147f1e4c",
   "metadata": {},
   "outputs": [],
   "source": [
    "def enhanced_round_robin(processes):\n",
    "    current_time = 0\n",
    "    RQ = []            \n",
    "    finished = []\n",
    "    timeline = []\n",
    "    context_switches = 0\n",
    "    last_pid = None\n",
    "\n",
    "    pending = sorted(processes, key=lambda p: p.arrival)\n",
    "    \n",
    "    running_process = None\n",
    "    exec_start = None      \n",
    "\n",
    "    while len(finished) < len(processes):\n",
    "        while pending and pending[0].arrival <= current_time:\n",
    "            proc = pending.pop(0)\n",
    "            RQ.append(proc)\n",
    "        \n",
    "        if running_process is None and not RQ:\n",
    "            current_time = pending[0].arrival\n",
    "            continue\n",
    "\n",
    "        if running_process is None:\n",
    "            # In the paper, when the CPU is free, we compute QT based on the available processes.\n",
    "            QT = calculate_quantum(RQ)\n",
    "            # Select the process with minimum remaining burst (SRQ head).\n",
    "            SRQ = sorted(RQ, key=lambda p: p.remaining)\n",
    "            p = SRQ[0]\n",
    "            RQ.remove(p)\n",
    "\n",
    "            running_process = p\n",
    "            if p.start is None:\n",
    "                p.start = current_time\n",
    "\n",
    "            # Start a context switch\n",
    "            if last_pid is not None and last_pid != p.pid:\n",
    "                context_switches += 1\n",
    "            last_pid = p.pid\n",
    "            # Record the start time for this execution slice.\n",
    "            exec_start = current_time\n",
    "\n",
    "        # In every time unit of execution, recalc QT based on all available processes.\n",
    "        available_for_quantum = list(RQ)\n",
    "        if running_process:\n",
    "            available_for_quantum.append(running_process)\n",
    "        QT = calculate_quantum(available_for_quantum)\n",
    "\n",
    "        one_third_QT = QT / 3\n",
    "\n",
    "        # Before executing the next time unit, check the preemption condition.\n",
    "        if running_process and RQ:\n",
    "            fbt = min(RQ, key=lambda p: p.remaining).remaining\n",
    "            if running_process.remaining > one_third_QT and fbt <= one_third_QT:\n",
    "                \n",
    "                # Preempt the running process.\n",
    "                timeline.append((running_process.pid, exec_start, current_time))\n",
    "                running_process.execution_log.append((exec_start, current_time))\n",
    "                \n",
    "                RQ.append(running_process)\n",
    "               \n",
    "                running_process = None\n",
    "                continue\n",
    "\n",
    "        # Execute one time unit.\n",
    "        current_time += 1\n",
    "        running_process.remaining -= 1\n",
    "\n",
    "        # Check for new arrivals during execution.\n",
    "        while pending and pending[0].arrival <= current_time:\n",
    "            proc = pending.pop(0)\n",
    "            RQ.append(proc)\n",
    "\n",
    "        # If the running process has exhausted the current quantum,\n",
    "        if (current_time - exec_start) >= QT:\n",
    "            # End of current quantum slice.\n",
    "            timeline.append((running_process.pid, exec_start, current_time))\n",
    "            running_process.execution_log.append((exec_start, current_time))\n",
    "\n",
    "            if running_process.remaining <= 0:\n",
    "                # Finished.\n",
    "                running_process.end = current_time\n",
    "                running_process.done = True\n",
    "                finished.append(running_process)\n",
    "            else:\n",
    "                # Process not finished; place it back in RQ.\n",
    "                RQ.append(running_process)\n",
    "               \n",
    "\n",
    "            running_process = None\n",
    "            continue\n",
    "\n",
    "        # If the running process finished before the quantum expires, note it.\n",
    "        if running_process.remaining <= 0:\n",
    "            timeline.append((running_process.pid, exec_start, current_time))\n",
    "            running_process.execution_log.append((exec_start, current_time))\n",
    "\n",
    "            running_process.end = current_time\n",
    "            running_process.done = True\n",
    "\n",
    "            finished.append(running_process)\n",
    "            running_process = None\n",
    "\n",
    "    return finished, timeline, context_switches"
   ]
  },
  {
   "cell_type": "markdown",
   "id": "65c1899f",
   "metadata": {},
   "source": [
    "## Running Algorithm With Sample Process Sets\n",
    "### Ascending Order"
   ]
  },
  {
   "cell_type": "code",
   "execution_count": 30,
   "id": "aa7dabb4",
   "metadata": {},
   "outputs": [
    {
     "data": {
      "image/png": "[encoded data removed]",
      "text/plain": [
       "<Figure size 1200x300 with 1 Axes>"
      ]
     },
     "metadata": {},
     "output_type": "display_data"
    },
    {
     "name": "stdout",
     "output_type": "stream",
     "text": [
      "Context Switches: 44\n",
      "Average Waiting Time: 415.95\n",
      "Average Turnaround Time: 488.55\n"
     ]
    }
   ],
   "source": [
    "processes = [\n",
    "    Process('A', 0, 10),\n",
    "    Process('B', 1, 15),\n",
    "    Process('C', 2, 34),\n",
    "    Process('D', 3, 37),\n",
    "    Process('E', 4, 37),\n",
    "    Process('F', 5, 44),\n",
    "    Process('G', 6, 46),\n",
    "    Process('H', 7, 51),\n",
    "    Process('I', 8, 52),\n",
    "    Process('J', 9, 55),\n",
    "    Process('K', 10, 68),\n",
    "    Process('L', 11, 71),\n",
    "    Process('M', 12, 72),\n",
    "    Process('N', 13, 74),\n",
    "    Process('O', 14, 77),\n",
    "    Process('P', 15, 79),\n",
    "    Process('Q', 16, 88),\n",
    "    Process('R', 17, 91),\n",
    "    Process('S', 18, 101),\n",
    "    Process('T', 19, 350),\n",
    "]\n",
    "\n",
    "finished, timeline, cs = enhanced_round_robin(processes)\n",
    "avg_waiting, avg_turnaround = compute_metrics(finished)\n",
    "plot_gantt_chart(timeline)\n",
    "print(\"Context Switches:\", cs)\n",
    "print(\"Average Waiting Time:\", avg_waiting)\n",
    "print(\"Average Turnaround Time:\", avg_turnaround)"
   ]
  },
  {
   "cell_type": "markdown",
   "id": "24e17cbe",
   "metadata": {},
   "source": [
    "### Descending Order"
   ]
  },
  {
   "cell_type": "code",
   "execution_count": 43,
   "id": "f014cfe6",
   "metadata": {},
   "outputs": [
    {
     "data": {
      "image/png": "[encoded data removed]",
      "text/plain": [
       "<Figure size 1200x300 with 1 Axes>"
      ]
     },
     "metadata": {},
     "output_type": "display_data"
    },
    {
     "name": "stdout",
     "output_type": "stream",
     "text": [
      "Context Switches: 21\n",
      "Average Waiting Time: 432.45\n",
      "Average Turnaround Time: 505.05\n"
     ]
    }
   ],
   "source": [
    "processes = [\n",
    "    Process('A', 0, 350),\n",
    "    Process('B', 1, 101),\n",
    "    Process('C', 2, 91),\n",
    "    Process('D', 3, 88),\n",
    "    Process('E', 4, 79),\n",
    "    Process('F', 5, 77),\n",
    "    Process('G', 6, 74),\n",
    "    Process('H', 7, 72),\n",
    "    Process('I', 8, 71),\n",
    "    Process('J', 9, 68),\n",
    "    Process('K', 10, 55),\n",
    "    Process('L', 11, 52),\n",
    "    Process('M', 12, 51),\n",
    "    Process('N', 13, 46),\n",
    "    Process('O', 14, 44),\n",
    "    Process('P', 15, 37),\n",
    "    Process('Q', 16, 37),\n",
    "    Process('R', 17, 34),\n",
    "    Process('S', 18, 15),\n",
    "    Process('T', 19, 10),\n",
    "]\n",
    "\n",
    "finished, timeline, cs = enhanced_round_robin(processes)\n",
    "avg_waiting, avg_turnaround = compute_metrics(finished)\n",
    "plot_gantt_chart(timeline)\n",
    "print(\"Context Switches:\", cs)\n",
    "print(\"Average Waiting Time:\", avg_waiting)\n",
    "print(\"Average Turnaround Time:\", avg_turnaround)"
   ]
  },
  {
   "cell_type": "markdown",
   "id": "1a27cdf9",
   "metadata": {},
   "source": [
    "### Random Order:"
   ]
  },
  {
   "cell_type": "code",
   "execution_count": 35,
   "id": "46d6264e",
   "metadata": {},
   "outputs": [
    {
     "data": {
      "image/png": "[encoded data removed]",
      "text/plain": [
       "<Figure size 1200x300 with 1 Axes>"
      ]
     },
     "metadata": {},
     "output_type": "display_data"
    },
    {
     "name": "stdout",
     "output_type": "stream",
     "text": [
      "Context Switches: 20\n",
      "Average Waiting Time: 417.35\n",
      "Average Turnaround Time: 489.95\n"
     ]
    }
   ],
   "source": [
    "processes = [\n",
    "    Process('A', 0, 51),\n",
    "    Process('B', 1, 77),\n",
    "    Process('C', 2, 44),\n",
    "    Process('D', 3, 10),\n",
    "    Process('E', 4, 79),\n",
    "    Process('F', 5, 34),\n",
    "    Process('G', 6, 88),\n",
    "    Process('H', 7, 68),\n",
    "    Process('I', 8, 72),\n",
    "    Process('J', 9, 74),\n",
    "    Process('K', 10, 15),\n",
    "    Process('L', 11, 55),\n",
    "    Process('M', 12, 91),\n",
    "    Process('N', 13, 37),\n",
    "    Process('O', 14, 71),\n",
    "    Process('P', 15, 101),\n",
    "    Process('Q', 16, 350),\n",
    "    Process('R', 17, 52),\n",
    "    Process('S', 18, 37),\n",
    "    Process('T', 19, 46),\n",
    "]\n",
    "\n",
    "finished, timeline, cs = enhanced_round_robin(processes)\n",
    "avg_waiting, avg_turnaround = compute_metrics(finished)\n",
    "plot_gantt_chart(timeline)\n",
    "print(\"Context Switches:\", cs)\n",
    "print(\"Average Waiting Time:\", avg_waiting)\n",
    "print(\"Average Turnaround Time:\", avg_turnaround)"
   ]
  }
 ],
 "metadata": {
  "kernelspec": {
   "display_name": "base",
   "language": "python",
   "name": "python3"
  },
  "language_info": {
   "codemirror_mode": {
    "name": "ipython",
    "version": 3
   },
   "file_extension": ".py",
   "mimetype": "text/x-python",
   "name": "python",
   "nbconvert_exporter": "python",
   "pygments_lexer": "ipython3",
   "version": "3.11.8"
  }
 },
 "nbformat": 4,
 "nbformat_minor": 5
}
