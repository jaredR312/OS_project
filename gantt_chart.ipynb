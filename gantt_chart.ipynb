{
 "cells": [
  {
   "cell_type": "code",
   "execution_count": 36,
   "id": "e1477ef6-b1fe-4233-8ab9-e7991e6031b8",
   "metadata": {},
   "outputs": [],
   "source": [
    "import matplotlib.pyplot as plt\n",
    "\n",
    "def ganttChart(processOutput):\n",
    "    fig, ax = plt.subplots(figsize=(12, 1)) # create fig (resembles a gantt chart)\n",
    "    ax.axis('off') # gets rid of border on plot\n",
    "    ax.set_xlabel(\"Time(s)\", labelpad = 20) # \"Time\" label on x-axis\n",
    "    ax.set_title('Round Robin CPU Scheduling Gantt Chart') # Title of fig\n",
    "    \n",
    "    ax.text(x=0,y=.3, s='0')  # plot time 0 at beginning of gantt chart \n",
    "    \n",
    "    for startTime, endTime, process in processOuput: # for loop to sequentially plot each bar\n",
    "        processDuration = endTime - startTime\n",
    "        plt.barh(y=1,width=processDuration,left=startTime, color='none', edgecolor='black', linewidth=2) # plots bar \n",
    "        procLabelPos = (startTime+endTime)/2 # find pos to put process name\n",
    "        ax.text(x=(procLabelPos-0.6), y=1, s=process) # put process name in middle of block\n",
    "        ax.text(x=endTime,y=.3, s=endTime) # put ending time of proc for \"context switch\"\n",
    "    \n",
    "    plt.show"
   ]
  },
  {
   "cell_type": "code",
   "execution_count": 34,
   "id": "bd4c1efd-6526-4159-8e36-b824677d1639",
   "metadata": {},
   "outputs": [
    {
     "data": {
      "image/png": "[encoded data removed]",
      "text/plain": [
       "<Figure size 1200x100 with 1 Axes>"
      ]
     },
     "metadata": {},
     "output_type": "display_data"
    }
   ],
   "source": [
    "# dummy info\n",
    "processOuput = [\n",
    "    (0, 10, 'P1'),  # proc P1 starts at 0, ends at 10\n",
    "    (10, 20, 'P2'), # proc P2 starts at 10, ends at 20\n",
    "    (20, 30, 'P3'), # proc P3 starts at 20, ends at 30 .... and so on\n",
    "    (30, 45, 'P4'),\n",
    "    (45, 55, 'P5'),\n",
    "    (55, 85, 'P6')\n",
    "]\n",
    "ganttChart(processOuput)"
   ]
  },
  {
   "cell_type": "code",
   "execution_count": null,
   "id": "c8c0096f-4889-4df2-aaf0-fd83fdc9ec64",
   "metadata": {},
   "outputs": [],
   "source": []
  }
 ],
 "metadata": {
  "kernelspec": {
   "display_name": "Python [conda env:base] *",
   "language": "python",
   "name": "conda-base-py"
  },
  "language_info": {
   "codemirror_mode": {
    "name": "ipython",
    "version": 3
   },
   "file_extension": ".py",
   "mimetype": "text/x-python",
   "name": "python",
   "nbconvert_exporter": "python",
   "pygments_lexer": "ipython3",
   "version": "3.12.7"
  }
 },
 "nbformat": 4,
 "nbformat_minor": 5
}
